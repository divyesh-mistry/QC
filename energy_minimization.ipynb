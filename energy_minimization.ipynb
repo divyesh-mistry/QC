{
 "cells": [
  {
   "cell_type": "code",
   "execution_count": 1,
   "metadata": {},
   "outputs": [],
   "source": [
    "import numpy as np\n",
    "import matplotlib.pyplot as plt"
   ]
  },
  {
   "cell_type": "code",
   "execution_count": 2,
   "metadata": {
    "scrolled": false
   },
   "outputs": [
    {
     "name": "stdout",
     "output_type": "stream",
     "text": [
      "[-0.5973836893208203, 0.5234667863163838, 1.6427507965512647, 2.7618772510306067, 3.8809501937657997, 5.0, 6.119049806234222, 7.23812274896942, 8.357249203448776, 9.47653321368366, 10.597383689320848]\n"
     ]
    }
   ],
   "source": [
    "sigma=1\n",
    "e=1\n",
    "def d_V_lj_dr(r, epsilon, sigma):    \n",
    "    return (-48 * epsilon * np.power(sigma, 12) / np.power(r, 13) + 24 * epsilon * np.power(sigma, 6) / np.power(r, 7))\n",
    "\n",
    "def V_lj(r,epsilon, sigma):\n",
    "    return (4*epsilon * (np.power(sigma, 12) / np.power(r, 12) - np.power(sigma, 6) / np.power(r, 6)))\n",
    "\n",
    "#find abs value of force \n",
    "def modulus(a):\n",
    "    sum=0\n",
    "    for i in a:\n",
    "        sum=sum+i*i\n",
    "    \n",
    "    return np.sqrt(sum)\n",
    "    \n",
    "Tol=1e-2\n",
    "#err=1\n",
    "\n",
    "\n",
    "N=11\n",
    "f_s=np.zeros(N)\n",
    "h=1e-5\n",
    "\n",
    "E_p=[]\n",
    "   \n",
    "#calculate energy\n",
    "def Enrgy(q_s,N,e, sigma):\n",
    "    E=0\n",
    "    for i in range(N):\n",
    "        for j in range(N):\n",
    "            if i!=j:\n",
    "                r_ij=(abs(q_s[i]-q_s[j]))\n",
    "                E=E+ 0.5*V_lj(r_ij,e, sigma)\n",
    "    return E\n",
    "\n",
    "# calculate force\n",
    "def force(q_s,N,e, sigma):    \n",
    "    for i in range(N):\n",
    "        f_0=0\n",
    "        for j in range(N):\n",
    "            if i!=j:\n",
    "                r_ij=abs(q_s[i]-q_s[j])\n",
    "                f_0=f_0+(-d_V_lj_dr(r_ij,e,sigma))*((q_s[i]-q_s[j])/(abs(q_s[i]-q_s[j])))\n",
    "        f_s[i]=f_0\n",
    "    return f_s\n",
    "\n",
    "a=1\n",
    "energy=[]\n",
    "q_s= [i*a for i in range(N)]\n",
    "fs=(force(q_s,N,e, sigma))\n",
    "err=modulus(fs)\n",
    "#print(err)\n",
    "while err>Tol:    \n",
    "    for i in range(N):        \n",
    "        q_s[i]=q_s[i]+h*f_s[i]        \n",
    "    f_s=force(q_s,N,e,sigma)\n",
    "    \n",
    "    err=modulus(f_s)\n",
    "    #print(err)\n",
    "    energy.append(Enrgy(q_s,N,e,sigma))\n",
    "print(q_s)\n",
    "#print(force(q_s,N,e,sigma))\n",
    "#print(Enrgy(q_s,N,e,sigma))\n"
   ]
  },
  {
   "cell_type": "code",
   "execution_count": 3,
   "metadata": {},
   "outputs": [
    {
     "data": {
      "text/plain": [
       "[<matplotlib.lines.Line2D at 0x7f30a49f6610>]"
      ]
     },
     "execution_count": 3,
     "metadata": {},
     "output_type": "execute_result"
    },
    {
     "data": {
      "image/png": "[encoded data removed]",
      "text/plain": [
       "<Figure size 432x288 with 1 Axes>"
      ]
     },
     "metadata": {
      "needs_background": "light"
     },
     "output_type": "display_data"
    }
   ],
   "source": [
    "plt.plot(energy)"
   ]
  },
  {
   "cell_type": "code",
   "execution_count": 4,
   "metadata": {},
   "outputs": [
    {
     "data": {
      "text/plain": [
       "[<matplotlib.lines.Line2D at 0x7f30a45d6110>]"
      ]
     },
     "execution_count": 4,
     "metadata": {},
     "output_type": "execute_result"
    },
    {
     "data": {
      "image/png": "[encoded data removed]",
      "text/plain": [
       "<Figure size 432x288 with 1 Axes>"
      ]
     },
     "metadata": {
      "needs_background": "light"
     },
     "output_type": "display_data"
    }
   ],
   "source": [
    "x=np.zeros_like(q_s)\n",
    "a=1\n",
    "u_0 = [i*a for i in range(N)]\n",
    "plt.plot(q_s,x,\"o\")\n",
    "plt.plot(u_0,x,\"o--\")"
   ]
  },
  {
   "cell_type": "code",
   "execution_count": null,
   "metadata": {},
   "outputs": [],
   "source": []
  },
  {
   "cell_type": "code",
   "execution_count": null,
   "metadata": {},
   "outputs": [],
   "source": []
  }
 ],
 "metadata": {
  "kernelspec": {
   "display_name": "Python 3",
   "language": "python",
   "name": "python3"
  },
  "language_info": {
   "codemirror_mode": {
    "name": "ipython",
    "version": 3
   },
   "file_extension": ".py",
   "mimetype": "text/x-python",
   "name": "python",
   "nbconvert_exporter": "python",
   "pygments_lexer": "ipython3",
   "version": "3.7.5"
  }
 },
 "nbformat": 4,
 "nbformat_minor": 4
}
